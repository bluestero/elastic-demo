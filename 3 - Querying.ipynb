{
 "cells": [
  {
   "attachments": {},
   "cell_type": "markdown",
   "metadata": {},
   "source": [
    "# Basic Setup."
   ]
  },
  {
   "cell_type": "code",
   "execution_count": 11,
   "metadata": {},
   "outputs": [],
   "source": [
    "#-Importing the modules-#\n",
    "import warnings\n",
    "from time import sleep\n",
    "from typing import Any, Dict, Generator\n",
    "from elasticsearch import helpers, Elasticsearch, ElasticsearchWarning\n",
    "\n",
    "#-Suppressing the warnings-#\n",
    "warnings.filterwarnings(\"ignore\", category = ElasticsearchWarning)\n"
   ]
  },
  {
   "cell_type": "code",
   "execution_count": 12,
   "metadata": {},
   "outputs": [],
   "source": [
    "#-Creating the Elasticsearch object connected to our localhost instance-#\n",
    "host = \"http://localhost:9200/\"\n",
    "es = Elasticsearch(hosts = host, request_timeout = 600)\n"
   ]
  },
  {
   "cell_type": "code",
   "execution_count": 13,
   "metadata": {},
   "outputs": [
    {
     "data": {
      "text/plain": [
       "True"
      ]
     },
     "execution_count": 13,
     "metadata": {},
     "output_type": "execute_result"
    }
   ],
   "source": [
    "#-Testing the connection-#\n",
    "es.ping()\n"
   ]
  },
  {
   "cell_type": "code",
   "execution_count": 14,
   "metadata": {},
   "outputs": [
    {
     "name": "stdout",
     "output_type": "stream",
     "text": [
      "{'acknowledged': True}\n",
      "False\n"
     ]
    }
   ],
   "source": [
    "#-Deleting the tbl_reporters index-#\n",
    "response = es.indices.delete(index = \"tbl_reporters\", ignore_unavailable = True)\n",
    "print(response)\n",
    "\n",
    "#-Confirming that it is deleted-#\n",
    "response = es.indices.get(index = \"*\", ignore_unavailable = True)\n",
    "print(\"tbl_reporters\" in response)\n"
   ]
  },
  {
   "cell_type": "code",
   "execution_count": 15,
   "metadata": {},
   "outputs": [
    {
     "name": "stdout",
     "output_type": "stream",
     "text": [
      "(1000, [])\n"
     ]
    }
   ],
   "source": [
    "#-This approach is for large dataset files with limited preprocessing-#\n",
    "import csv\n",
    "\n",
    "def doc_generator(filename: str) -> Generator[Dict[str, Any], None, None]:\n",
    "\n",
    "    #-Opening the file-#\n",
    "    with open(filename, \"r\", encoding = \"utf-8\") as csv_file:\n",
    "\n",
    "        #-Creating a CSV reader object-#\n",
    "        reader = csv.DictReader(csv_file)\n",
    "\n",
    "        #-Iterating the records-#\n",
    "        for row in reader:\n",
    "\n",
    "            #-Yielding the processed document-#\n",
    "            yield {\n",
    "                \"_index\": \"tbl_reporters\",\n",
    "                \"_id\": row.pop(\"reporter_id\"),\n",
    "                \"_source\": row\n",
    "            }\n",
    "\n",
    "#-Doing the bulk import with this method-#\n",
    "response = helpers.bulk(es, doc_generator(\"reporters.csv\"))\n",
    "print(response)\n"
   ]
  },
  {
   "cell_type": "code",
   "execution_count": 16,
   "metadata": {},
   "outputs": [
    {
     "data": {
      "text/plain": [
       "{'took': 1,\n",
       " 'timed_out': False,\n",
       " '_shards': {'total': 1, 'successful': 1, 'skipped': 0, 'failed': 0},\n",
       " 'hits': {'total': {'value': 1000, 'relation': 'eq'},\n",
       "  'max_score': 1.0,\n",
       "  'hits': [{'_index': 'tbl_reporters',\n",
       "    '_id': '85382',\n",
       "    '_score': 1.0,\n",
       "    '_source': {'name': 'Michael Griffiths',\n",
       "     'outlet_id': '16039',\n",
       "     'city': '',\n",
       "     'state': '',\n",
       "     'country_code': 'GB',\n",
       "     'associations': '111071, 18745, 57818',\n",
       "     'topics': 'Crime, Law, News, Crime And Justice, European Union',\n",
       "     'twitter_description': 'News editor and covering sanctions for Global Investigations Review.  in . Also runs @FARAupdates. Still some UK corporate crime stuff. DMs open.',\n",
       "     'pitch': '',\n",
       "     'last_updated': '2024-08-22 07:16:54.000',\n",
       "     'active': 'false'}}]}}"
      ]
     },
     "execution_count": 16,
     "metadata": {},
     "output_type": "execute_result"
    }
   ],
   "source": [
    "#-Adding some interval to wait for the data to be ingested-#\n",
    "sleep(1)\n",
    "\n",
    "#-Checking the ingested data using search-#\n",
    "dict(es.search(index = \"tbl_reporters\", size = 1))\n"
   ]
  },
  {
   "attachments": {},
   "cell_type": "markdown",
   "metadata": {},
   "source": [
    "# Filtration queries."
   ]
  },
  {
   "cell_type": "code",
   "execution_count": 17,
   "metadata": {},
   "outputs": [
    {
     "data": {
      "text/plain": [
       "{'took': 2,\n",
       " 'timed_out': False,\n",
       " '_shards': {'total': 1, 'successful': 1, 'skipped': 0, 'failed': 0},\n",
       " 'hits': {'total': {'value': 1000, 'relation': 'eq'},\n",
       "  'max_score': 1.0,\n",
       "  'hits': [{'_index': 'tbl_reporters',\n",
       "    '_id': '85382',\n",
       "    '_score': 1.0,\n",
       "    '_source': {'name': 'Michael Griffiths',\n",
       "     'associations': '111071, 18745, 57818'}}]}}"
      ]
     },
     "execution_count": 17,
     "metadata": {},
     "output_type": "execute_result"
    }
   ],
   "source": [
    "#-Only getting selected attributes from the source and adding a document limit-#\n",
    "dict(es.search(index = \"tbl_reporters\", source = [\"name\", \"associations\"], size = 1))\n"
   ]
  },
  {
   "cell_type": "code",
   "execution_count": 18,
   "metadata": {},
   "outputs": [
    {
     "data": {
      "text/plain": [
       "{'took': 1,\n",
       " 'timed_out': False,\n",
       " '_shards': {'total': 1, 'successful': 1, 'skipped': 0, 'failed': 0},\n",
       " 'hits': {'total': {'value': 1000, 'relation': 'eq'},\n",
       "  'max_score': 1.0,\n",
       "  'hits': [{'_index': 'tbl_reporters',\n",
       "    '_id': '85382',\n",
       "    '_score': 1.0,\n",
       "    '_source': {'name': 'Michael Griffiths',\n",
       "     'associations': '111071, 18745, 57818'}}]}}"
      ]
     },
     "execution_count": 18,
     "metadata": {},
     "output_type": "execute_result"
    }
   ],
   "source": [
    "#-This is the same as source-#\n",
    "dict(es.search(index = \"tbl_reporters\", source_includes = [\"name\", \"associations\"], size = 1))\n"
   ]
  },
  {
   "cell_type": "code",
   "execution_count": 19,
   "metadata": {},
   "outputs": [
    {
     "data": {
      "text/plain": [
       "{'took': 1,\n",
       " 'timed_out': False,\n",
       " '_shards': {'total': 1, 'successful': 1, 'skipped': 0, 'failed': 0},\n",
       " 'hits': {'total': {'value': 1, 'relation': 'eq'},\n",
       "  'max_score': 7.8862267,\n",
       "  'hits': [{'_index': 'tbl_reporters',\n",
       "    '_id': '85382',\n",
       "    '_score': 7.8862267,\n",
       "    '_source': {'name': 'Michael Griffiths',\n",
       "     'outlet_id': '16039',\n",
       "     'city': '',\n",
       "     'state': '',\n",
       "     'country_code': 'GB',\n",
       "     'associations': '111071, 18745, 57818',\n",
       "     'topics': 'Crime, Law, News, Crime And Justice, European Union',\n",
       "     'twitter_description': 'News editor and covering sanctions for Global Investigations Review.  in . Also runs @FARAupdates. Still some UK corporate crime stuff. DMs open.',\n",
       "     'pitch': '',\n",
       "     'last_updated': '2024-08-22 07:16:54.000',\n",
       "     'active': 'false'}}]}}"
      ]
     },
     "execution_count": 19,
     "metadata": {},
     "output_type": "execute_result"
    }
   ],
   "source": [
    "#-Query object-#\n",
    "query = {\n",
    "    \"match_phrase\": {\n",
    "      \"twitter_description\": \"global investigations\"\n",
    "    }\n",
    "}\n",
    "\n",
    "#-Using match_phrase query-#\n",
    "dict(es.search(index = \"tbl_reporters\", query = query))\n"
   ]
  },
  {
   "cell_type": "code",
   "execution_count": 23,
   "metadata": {},
   "outputs": [
    {
     "data": {
      "text/plain": [
       "{'took': 2,\n",
       " 'timed_out': False,\n",
       " '_shards': {'total': 1, 'successful': 1, 'skipped': 0, 'failed': 0},\n",
       " 'hits': {'total': {'value': 6, 'relation': 'eq'},\n",
       "  'max_score': 7.8862267,\n",
       "  'hits': [{'_index': 'tbl_reporters',\n",
       "    '_id': '85382',\n",
       "    '_score': 7.8862267,\n",
       "    '_source': {'name': 'Michael Griffiths',\n",
       "     'outlet_id': '16039',\n",
       "     'city': '',\n",
       "     'state': '',\n",
       "     'country_code': 'GB',\n",
       "     'associations': '111071, 18745, 57818',\n",
       "     'topics': 'Crime, Law, News, Crime And Justice, European Union',\n",
       "     'twitter_description': 'News editor and covering sanctions for Global Investigations Review.  in . Also runs @FARAupdates. Still some UK corporate crime stuff. DMs open.',\n",
       "     'pitch': '',\n",
       "     'last_updated': '2024-08-22 07:16:54.000',\n",
       "     'active': 'false'}},\n",
       "   {'_index': 'tbl_reporters',\n",
       "    '_id': '352134',\n",
       "    '_score': 5.4511576,\n",
       "    '_source': {'name': 'Elizabeth Hlavinka',\n",
       "     'outlet_id': '461482',\n",
       "     'city': '',\n",
       "     'state': '',\n",
       "     'country_code': 'US',\n",
       "     'associations': '14090, 260106, 25672, 2488',\n",
       "     'topics': 'HealthMotore, Arts And Entertainment, Covid',\n",
       "     'twitter_description': \"covering psych/peds/features/investigations for @medpagetoday I'm all ears: ehlavinka@medpagetoday.com\",\n",
       "     'pitch': '',\n",
       "     'last_updated': '2024-08-30 05:18:27.740',\n",
       "     'active': 'true'}},\n",
       "   {'_index': 'tbl_reporters',\n",
       "    '_id': '966887',\n",
       "    '_score': 4.9070535,\n",
       "    '_source': {'name': 'Leon Hadar',\n",
       "     'outlet_id': '317800',\n",
       "     'city': '',\n",
       "     'state': '',\n",
       "     'country_code': 'US',\n",
       "     'associations': '27473',\n",
       "     'topics': 'Politics, Economic Affairs',\n",
       "     'twitter_description': 'Global political and economic affairs analyst. Journalist, blogger, lecturer, consultant',\n",
       "     'pitch': '',\n",
       "     'last_updated': '2021-06-01 11:10:54.641',\n",
       "     'active': 'true'}},\n",
       "   {'_index': 'tbl_reporters',\n",
       "    '_id': '707745',\n",
       "    '_score': 4.9070535,\n",
       "    '_source': {'name': 'Danny Buckland',\n",
       "     'outlet_id': '82152',\n",
       "     'city': '',\n",
       "     'state': '',\n",
       "     'country_code': 'GB',\n",
       "     'associations': '479379, 10602',\n",
       "     'topics': 'Healthcare Systems, Beauty, Mental Health, Health, Healthcare, Policy, Tech, health and beauty product',\n",
       "     'twitter_description': 'Award-winning Health Journalist. Print. Online. Consultant. Global. http://www.dannybuckland.co.uk',\n",
       "     'pitch': '',\n",
       "     'last_updated': '2021-11-03 15:08:19.397',\n",
       "     'active': 'true'}},\n",
       "   {'_index': 'tbl_reporters',\n",
       "    '_id': '90192',\n",
       "    '_score': 3.7008653,\n",
       "    '_source': {'name': 'Alex Wallis',\n",
       "     'outlet_id': '54656',\n",
       "     'city': '',\n",
       "     'state': '',\n",
       "     'country_code': 'GB',\n",
       "     'associations': '45769, 44786, 47663',\n",
       "     'topics': 'Regional News',\n",
       "     'twitter_description': 'Regional News Editor for Global North West. Mummy to gorgeous Eva, twins James and Thomas and wife to handsome Andy.',\n",
       "     'pitch': '',\n",
       "     'last_updated': '2021-10-04 09:13:26.750',\n",
       "     'active': 'true'}},\n",
       "   {'_index': 'tbl_reporters',\n",
       "    '_id': '477957',\n",
       "    '_score': 3.7008653,\n",
       "    '_source': {'name': 'Alessandra Bergamin',\n",
       "     'outlet_id': '461482',\n",
       "     'city': '',\n",
       "     'state': '',\n",
       "     'country_code': 'US',\n",
       "     'associations': '17011, 24136, 478725, 341113, 10777',\n",
       "     'topics': '',\n",
       "     'twitter_description': 'Journalist: @NatGeo, @newyorker, @harpers, @lithub, @elemental Sign up for Defender, a newsletter about the global environmental justice movement (link below)',\n",
       "     'pitch': '',\n",
       "     'last_updated': '2021-10-21 04:25:07.560',\n",
       "     'active': 'true'}}]}}"
      ]
     },
     "execution_count": 23,
     "metadata": {},
     "output_type": "execute_result"
    }
   ],
   "source": [
    "#-Query object-#\n",
    "query = {\n",
    "    \"match\": {\n",
    "        \"twitter_description\": \"investigations global\"\n",
    "    }\n",
    "}\n",
    "\n",
    "#-Using the match query-#\n",
    "dict(es.search(index = \"tbl_reporters\", query = query))\n"
   ]
  },
  {
   "attachments": {},
   "cell_type": "markdown",
   "metadata": {},
   "source": [
    "# Aggregations Query."
   ]
  },
  {
   "cell_type": "code",
   "execution_count": 26,
   "metadata": {},
   "outputs": [
    {
     "data": {
      "text/plain": [
       "{'took': 12,\n",
       " 'timed_out': False,\n",
       " '_shards': {'total': 1, 'successful': 1, 'skipped': 0, 'failed': 0},\n",
       " 'hits': {'total': {'value': 1000, 'relation': 'eq'},\n",
       "  'max_score': None,\n",
       "  'hits': []},\n",
       " 'aggregations': {'associations': {'doc_count_error_upper_bound': 0,\n",
       "   'sum_other_doc_count': 396,\n",
       "   'buckets': [{'key': '', 'doc_count': 595},\n",
       "    {'key': '#ACSM Certified Clinical Exercise Physiologist,RRCA Run Coach, Runner, yoga, twin mama. #FitFluential #SweatPink Saucony #FindYourStrongTeam #StonyfieldBlogger',\n",
       "     'doc_count': 1},\n",
       "    {'key': '#FoodStudies & #PublicCommunications student @SyracuseU all opinions are my own',\n",
       "     'doc_count': 1},\n",
       "    {'key': '#lovespokane', 'doc_count': 1},\n",
       "    {'key': '#rva word nerd. writes about music, beer, things south. @nekocase for president.',\n",
       "     'doc_count': 1},\n",
       "    {'key': '(Bee-taa Ba-gu-lee/zaa-deh) Asst Prof of History & Africana @BucknellU. Writing a book on race+slavery in Iran, making a @diasporaletters film. Editor @ajammc.',\n",
       "     'doc_count': 1},\n",
       "    {'key': '2012’s #1 Amita positive manager. Proud @beyouorgpresident. Marketing @minosemi_official/@universalmusicgroup. artPOPlover. I dancing.',\n",
       "     'doc_count': 1},\n",
       "    {'key': '24hourlondon is an app showing late-opening bars, pubs, clubs and restaurants near you. Available free here  http://24hourlondon.co.uk',\n",
       "     'doc_count': 1},\n",
       "    {'key': '@ABC11_WTVD Weather Anchor and Reporter, Singer, Speaker, and Dog Lover.',\n",
       "     'doc_count': 1},\n",
       "    {'key': '@CDLB Copy & Features Editor. Hawkeye. I run sometimes. Formerly @nwherald, @The_Citizen, @TheBuffaloNews, @TheDailyIowan',\n",
       "     'doc_count': 1}]}}}"
      ]
     },
     "execution_count": 26,
     "metadata": {},
     "output_type": "execute_result"
    }
   ],
   "source": [
    "#-Aggregation object-#\n",
    "aggs = {\n",
    "    \"associations\": {\n",
    "      \"terms\": {\n",
    "        \"field\": \"associations.keyword\",\n",
    "        \"size\": 10,\n",
    "        \"order\": {\n",
    "          \"_count\": \"desc\"\n",
    "        }\n",
    "      }\n",
    "    }\n",
    "  }\n",
    "\n",
    "#-Using single aggregation bucket-#\n",
    "dict(es.search(index = \"tbl_reporters\", aggregations = aggs, size = 0))\n",
    "\n"
   ]
  },
  {
   "cell_type": "code",
   "execution_count": 34,
   "metadata": {},
   "outputs": [
    {
     "data": {
      "text/plain": [
       "{'took': 1,\n",
       " 'timed_out': False,\n",
       " '_shards': {'total': 1, 'successful': 1, 'skipped': 0, 'failed': 0},\n",
       " 'hits': {'total': {'value': 1000, 'relation': 'eq'},\n",
       "  'max_score': None,\n",
       "  'hits': []},\n",
       " 'aggregations': {'tweet_desc': {'doc_count_error_upper_bound': 0,\n",
       "   'sum_other_doc_count': 396,\n",
       "   'buckets': [{'key': '', 'doc_count': 595},\n",
       "    {'key': '#ACSM Certified Clinical Exercise Physiologist,RRCA Run Coach, Runner, yoga, twin mama. #FitFluential #SweatPink Saucony #FindYourStrongTeam #StonyfieldBlogger',\n",
       "     'doc_count': 1},\n",
       "    {'key': '#FoodStudies & #PublicCommunications student @SyracuseU all opinions are my own',\n",
       "     'doc_count': 1},\n",
       "    {'key': '#lovespokane', 'doc_count': 1},\n",
       "    {'key': '#rva word nerd. writes about music, beer, things south. @nekocase for president.',\n",
       "     'doc_count': 1},\n",
       "    {'key': '(Bee-taa Ba-gu-lee/zaa-deh) Asst Prof of History & Africana @BucknellU. Writing a book on race+slavery in Iran, making a @diasporaletters film. Editor @ajammc.',\n",
       "     'doc_count': 1},\n",
       "    {'key': '2012’s #1 Amita positive manager. Proud @beyouorgpresident. Marketing @minosemi_official/@universalmusicgroup. artPOPlover. I dancing.',\n",
       "     'doc_count': 1},\n",
       "    {'key': '24hourlondon is an app showing late-opening bars, pubs, clubs and restaurants near you. Available free here  http://24hourlondon.co.uk',\n",
       "     'doc_count': 1},\n",
       "    {'key': '@ABC11_WTVD Weather Anchor and Reporter, Singer, Speaker, and Dog Lover.',\n",
       "     'doc_count': 1},\n",
       "    {'key': '@CDLB Copy & Features Editor. Hawkeye. I run sometimes. Formerly @nwherald, @The_Citizen, @TheBuffaloNews, @TheDailyIowan',\n",
       "     'doc_count': 1}]}}}"
      ]
     },
     "execution_count": 34,
     "metadata": {},
     "output_type": "execute_result"
    }
   ],
   "source": [
    "#-Aggregation object-#\n",
    "aggs = {\n",
    "    \"tweet_desc\": {\n",
    "      \"terms\": {\n",
    "        \"field\": \"twitter_description.keyword\",\n",
    "        \"size\": 10,\n",
    "        \"order\": {\n",
    "          \"_count\": \"desc\"\n",
    "        }\n",
    "      }\n",
    "    }\n",
    "  }\n",
    "\n",
    "#-Using single aggregation bucket and showing comma separation-#\n",
    "dict(es.search(index = \"tbl_reporters\", aggregations = aggs, size = 0))\n",
    "\n"
   ]
  },
  {
   "cell_type": "code",
   "execution_count": 31,
   "metadata": {},
   "outputs": [
    {
     "data": {
      "text/plain": [
       "{'took': 2,\n",
       " 'timed_out': False,\n",
       " '_shards': {'total': 1, 'successful': 1, 'skipped': 0, 'failed': 0},\n",
       " 'hits': {'total': {'value': 1000, 'relation': 'eq'},\n",
       "  'max_score': None,\n",
       "  'hits': []},\n",
       " 'aggregations': {'associations': {'doc_count_error_upper_bound': 0,\n",
       "   'sum_other_doc_count': 955,\n",
       "   'buckets': [{'key': '383132', 'doc_count': 6},\n",
       "    {'key': '37310', 'doc_count': 5},\n",
       "    {'key': '111071', 'doc_count': 4},\n",
       "    {'key': '14838', 'doc_count': 4},\n",
       "    {'key': '347437', 'doc_count': 4},\n",
       "    {'key': '479366', 'doc_count': 4},\n",
       "    {'key': '32742, 37310', 'doc_count': 3},\n",
       "    {'key': '342960', 'doc_count': 3},\n",
       "    {'key': '37310, 32742', 'doc_count': 3},\n",
       "    {'key': '483509', 'doc_count': 3}]},\n",
       "  'countries': {'doc_count_error_upper_bound': 0,\n",
       "   'sum_other_doc_count': 52,\n",
       "   'buckets': [{'key': '', 'doc_count': 346},\n",
       "    {'key': 'US', 'doc_count': 257},\n",
       "    {'key': 'GB', 'doc_count': 243},\n",
       "    {'key': 'CA', 'doc_count': 52},\n",
       "    {'key': 'AU', 'doc_count': 15},\n",
       "    {'key': 'IN', 'doc_count': 13},\n",
       "    {'key': 'CN', 'doc_count': 6},\n",
       "    {'key': 'PK', 'doc_count': 6},\n",
       "    {'key': 'BR', 'doc_count': 5},\n",
       "    {'key': 'FR', 'doc_count': 5}]}}}"
      ]
     },
     "execution_count": 31,
     "metadata": {},
     "output_type": "execute_result"
    }
   ],
   "source": [
    "#-Aggregation object-#\n",
    "aggs = {\n",
    "    \"associations\": {\n",
    "      \"terms\": {\n",
    "        \"field\": \"associations.keyword\",\n",
    "        \"size\": 10,\n",
    "        \"order\": {\n",
    "          \"_count\": \"desc\"\n",
    "        }\n",
    "      }\n",
    "    },\n",
    "    \"countries\": {\n",
    "      \"terms\": {\n",
    "        \"field\": \"country_code.keyword\",\n",
    "        \"size\": 10,\n",
    "        \"order\": {\n",
    "          \"_count\": \"desc\"\n",
    "        }\n",
    "      }\n",
    "    }\n",
    "  }\n",
    "\n",
    "\n",
    "#-Multiple aggregation query-#\n",
    "dict(es.search(index = \"tbl_reporters\", aggregations = aggs, size = 0))\n"
   ]
  },
  {
   "attachments": {},
   "cell_type": "markdown",
   "metadata": {},
   "source": [
    "# Filtering out Empty Strings."
   ]
  },
  {
   "cell_type": "code",
   "execution_count": 35,
   "metadata": {},
   "outputs": [
    {
     "data": {
      "text/plain": [
       "{'took': 12,\n",
       " 'timed_out': False,\n",
       " '_shards': {'total': 1, 'successful': 1, 'skipped': 0, 'failed': 0},\n",
       " 'hits': {'total': {'value': 654, 'relation': 'eq'},\n",
       "  'max_score': None,\n",
       "  'hits': []},\n",
       " 'aggregations': {'associations': {'doc_count_error_upper_bound': 0,\n",
       "   'sum_other_doc_count': 618,\n",
       "   'buckets': [{'key': '383132', 'doc_count': 6},\n",
       "    {'key': '111071', 'doc_count': 3},\n",
       "    {'key': '14838', 'doc_count': 3},\n",
       "    {'key': '342960', 'doc_count': 3},\n",
       "    {'key': '347437', 'doc_count': 3},\n",
       "    {'key': '37310', 'doc_count': 3},\n",
       "    {'key': '479366', 'doc_count': 3},\n",
       "    {'key': '483509', 'doc_count': 3},\n",
       "    {'key': '483781', 'doc_count': 3},\n",
       "    {'key': '5744', 'doc_count': 3}]},\n",
       "  'countries': {'doc_count_error_upper_bound': 0,\n",
       "   'sum_other_doc_count': 47,\n",
       "   'buckets': [{'key': 'US', 'doc_count': 257},\n",
       "    {'key': 'GB', 'doc_count': 243},\n",
       "    {'key': 'CA', 'doc_count': 52},\n",
       "    {'key': 'AU', 'doc_count': 15},\n",
       "    {'key': 'IN', 'doc_count': 13},\n",
       "    {'key': 'CN', 'doc_count': 6},\n",
       "    {'key': 'PK', 'doc_count': 6},\n",
       "    {'key': 'BR', 'doc_count': 5},\n",
       "    {'key': 'FR', 'doc_count': 5},\n",
       "    {'key': 'IE', 'doc_count': 5}]}}}"
      ]
     },
     "execution_count": 35,
     "metadata": {},
     "output_type": "execute_result"
    }
   ],
   "source": [
    "#-Query object-#\n",
    "query = {\n",
    "    \"wildcard\": {\n",
    "      \"country_code\": {\n",
    "        \"value\": \"?*\"\n",
    "      }\n",
    "    }\n",
    "  }\n",
    "\n",
    "#-Aggregation object-#\n",
    "aggs = {\n",
    "    \"associations\": {\n",
    "      \"terms\": {\n",
    "        \"field\": \"associations.keyword\",\n",
    "        \"size\": 10,\n",
    "        \"order\": {\n",
    "          \"_count\": \"desc\"\n",
    "        }\n",
    "      }\n",
    "    },\n",
    "    \"countries\": {\n",
    "      \"terms\": {\n",
    "        \"field\": \"country_code.keyword\",\n",
    "        \"size\": 10,\n",
    "        \"order\": {\n",
    "          \"_count\": \"desc\"\n",
    "        }\n",
    "      }\n",
    "    }\n",
    "  }\n",
    "\n",
    "#-Multiple aggregation query without empty strings-#\n",
    "dict(es.search(index = \"tbl_reporters\", query = query, aggregations = aggs, size = 0))"
   ]
  }
 ],
 "metadata": {
  "kernelspec": {
   "display_name": "Python 3",
   "language": "python",
   "name": "python3"
  },
  "language_info": {
   "codemirror_mode": {
    "name": "ipython",
    "version": 3
   },
   "file_extension": ".py",
   "mimetype": "text/x-python",
   "name": "python",
   "nbconvert_exporter": "python",
   "pygments_lexer": "ipython3",
   "version": "3.12.3"
  },
  "orig_nbformat": 4
 },
 "nbformat": 4,
 "nbformat_minor": 2
}
