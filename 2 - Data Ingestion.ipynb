{
 "cells": [
  {
   "attachments": {},
   "cell_type": "markdown",
   "metadata": {},
   "source": [
    "# Basic Setup."
   ]
  },
  {
   "cell_type": "code",
   "execution_count": 2,
   "metadata": {},
   "outputs": [],
   "source": [
    "#-Importing the modules-#\n",
    "import warnings\n",
    "import numpy as np\n",
    "import pandas as pd\n",
    "from typing import Any, Dict, Generator\n",
    "from elasticsearch import helpers, Elasticsearch, ElasticsearchWarning\n",
    "\n",
    "#-Suppressing the warnings-#\n",
    "warnings.filterwarnings(\"ignore\", category = ElasticsearchWarning)\n"
   ]
  },
  {
   "cell_type": "code",
   "execution_count": 3,
   "metadata": {},
   "outputs": [],
   "source": [
    "#-Creating a dataframe from the Netflix Titles CSV-#\n",
    "df = pd.read_csv(\"reporters.csv\")\n",
    "\n",
    "#-Creating the Elasticsearch object connected to our localhost instance-#\n",
    "host = \"http://localhost:9200/\"\n",
    "es = Elasticsearch(hosts = host, request_timeout = 600)\n"
   ]
  },
  {
   "cell_type": "code",
   "execution_count": 4,
   "metadata": {},
   "outputs": [
    {
     "data": {
      "text/plain": [
       "True"
      ]
     },
     "execution_count": 4,
     "metadata": {},
     "output_type": "execute_result"
    }
   ],
   "source": [
    "#-Testing the connection-#\n",
    "es.ping()\n"
   ]
  },
  {
   "attachments": {},
   "cell_type": "markdown",
   "metadata": {},
   "source": [
    "# Some Data Cleaning / Pre-processing before uploading the data."
   ]
  },
  {
   "cell_type": "code",
   "execution_count": 5,
   "metadata": {},
   "outputs": [
    {
     "name": "stdout",
     "output_type": "stream",
     "text": [
      "Records before processing: 1000.\n",
      "\n",
      "Records without outlet_id: 330.\n",
      "\n",
      "Records after processing: 670.\n"
     ]
    }
   ],
   "source": [
    "#-Checking the number of records before processing-#\n",
    "print(f\"Records before processing: {df.shape[0]}.\\n\")\n",
    "\n",
    "#-Dropping all records without not associated with any outlets-#\n",
    "print(f\"Records without outlet_id: {df[\"outlet_id\"].isna().sum()}.\\n\")\n",
    "df = df.dropna(subset = [\"outlet_id\"])\n",
    "\n",
    "#-Making the outlet_id as int-#\n",
    "df[\"outlet_id\"] = df[\"outlet_id\"].astype(int)\n",
    "\n",
    "#-Replacing the NaN values with None-#\n",
    "df = df.replace(np.nan, None)\n",
    "\n",
    "#-Checking the number of records after processing-#\n",
    "print(f\"Records after processing: {df.shape[0]}.\")\n"
   ]
  },
  {
   "attachments": {},
   "cell_type": "markdown",
   "metadata": {},
   "source": [
    "# Making data ready for Ingestion."
   ]
  },
  {
   "cell_type": "code",
   "execution_count": 6,
   "metadata": {},
   "outputs": [],
   "source": [
    "#-Making the dataframe a list of rows (dict)-#\n",
    "records = df.to_dict(\"records\")"
   ]
  },
  {
   "cell_type": "code",
   "execution_count": 7,
   "metadata": {},
   "outputs": [],
   "source": [
    "#-Generator function to process the list of rows-#\n",
    "def doc_generator(records: list) -> Generator[Dict[str, Any], None, None]:\n",
    "\n",
    "    #-Iterating the records-#\n",
    "    for row in records:\n",
    "\n",
    "        #-Creating a copy of the dict to not alter the original dataset-#\n",
    "        row_copy = row.copy()\n",
    "\n",
    "        #-Yielding the processed document-#\n",
    "        yield {\n",
    "            \"_index\": \"tbl_reporters\",\n",
    "            \"_id\": row_copy.pop(\"reporter_id\"),\n",
    "            \"_source\": row_copy\n",
    "        }\n"
   ]
  },
  {
   "cell_type": "code",
   "execution_count": 8,
   "metadata": {},
   "outputs": [
    {
     "data": {
      "text/plain": [
       "{'_index': 'tbl_reporters',\n",
       " '_id': 85382,\n",
       " '_source': {'name': 'Michael Griffiths',\n",
       "  'outlet_id': 16039,\n",
       "  'city': None,\n",
       "  'state': None,\n",
       "  'country_code': 'GB',\n",
       "  'associations': '111071, 18745, 57818',\n",
       "  'topics': 'Crime, Law, News, Crime And Justice, European Union',\n",
       "  'twitter_description': 'News editor and covering sanctions for Global Investigations Review.  in . Also runs @FARAupdates. Still some UK corporate crime stuff. DMs open.',\n",
       "  'pitch': None,\n",
       "  'last_updated': '2024-08-22 07:16:54.000',\n",
       "  'active': False}}"
      ]
     },
     "execution_count": 8,
     "metadata": {},
     "output_type": "execute_result"
    }
   ],
   "source": [
    "#-Processing our records using the generator function-#\n",
    "processed_records = doc_generator(records)\n",
    "\n",
    "#-Printing the first record-#\n",
    "next(processed_records)\n"
   ]
  },
  {
   "attachments": {},
   "cell_type": "markdown",
   "metadata": {},
   "source": [
    "# Importing the data in bulk."
   ]
  },
  {
   "cell_type": "code",
   "execution_count": 9,
   "metadata": {},
   "outputs": [
    {
     "name": "stdout",
     "output_type": "stream",
     "text": [
      "{'acknowledged': True}\n",
      "False\n"
     ]
    }
   ],
   "source": [
    "#-Deleting the index first to show it creates a new index if does not exist-#\n",
    "response = es.indices.delete(index = \"tbl_reporters\", ignore_unavailable = True)\n",
    "print(response)\n",
    "\n",
    "#-Showing the index is deleted-#\n",
    "response = es.indices.get(index = \"*\", ignore_unavailable = True)\n",
    "print(\"tbl_reporters\" in response)\n"
   ]
  },
  {
   "cell_type": "code",
   "execution_count": 10,
   "metadata": {},
   "outputs": [
    {
     "name": "stdout",
     "output_type": "stream",
     "text": [
      "(670, [])\n"
     ]
    }
   ],
   "source": [
    "#-Importing the data using the helpers function-#\n",
    "response = helpers.bulk(es, doc_generator(records))\n",
    "print(response)\n"
   ]
  },
  {
   "attachments": {},
   "cell_type": "markdown",
   "metadata": {},
   "source": [
    "# Importing the data with datatype mapping."
   ]
  },
  {
   "cell_type": "code",
   "execution_count": 11,
   "metadata": {},
   "outputs": [
    {
     "name": "stdout",
     "output_type": "stream",
     "text": [
      "{'acknowledged': True}\n",
      "False\n"
     ]
    }
   ],
   "source": [
    "#-Deleting the tbl_reporters index-#\n",
    "response = es.indices.delete(index = \"tbl_reporters\", ignore_unavailable = True)\n",
    "print(response)\n",
    "\n",
    "#-Confirming that it is deleted-#\n",
    "response = es.indices.get(index = \"*\", ignore_unavailable = True)\n",
    "print(\"tbl_reporters\" in response)\n"
   ]
  },
  {
   "cell_type": "code",
   "execution_count": 12,
   "metadata": {},
   "outputs": [],
   "source": [
    "#-Available datatypes-#\n",
    "common_types = \"binary, boolean, keyword, constant_keyword, wildcard, long, double, date, date_nanos\"\n",
    "object_types = \"object, flattened, nested, join\"\n",
    "structured_types = \"long_range, double_range, date_range, ip_range, ip, version, version, murmur3\"\n",
    "aggregate_types = \"aggregate_metric_double, histogram\"\n",
    "text_types = \"text, match_only_text, annotated-text, completion, search_as_you_type, semantic_text, token_count\"\n",
    "document_types = \"dense_vector, sparse_vector, rank_feature, rank_features\"\n",
    "spatial_types = \"geo_point, geo_shape, point, shape\"\n",
    "other_types = \"percolator\"\n",
    "\n",
    "#-Settings dict object-#\n",
    "settings = {\n",
    "        \"number_of_shards\": 1,\n",
    "        \"number_of_replicas\": 0\n",
    "        }\n",
    "\n",
    "mappings = {\n",
    "    \"properties\": {\n",
    "        \"outlet_id\": {\n",
    "            \"type\": \"double\"\n",
    "        }\n",
    "    }\n",
    "}\n",
    "\n",
    "config = {\n",
    "    \"settings\": settings,\n",
    "    \"mappings\": mappings\n",
    "\n",
    "}"
   ]
  },
  {
   "cell_type": "code",
   "execution_count": 13,
   "metadata": {},
   "outputs": [
    {
     "name": "stdout",
     "output_type": "stream",
     "text": [
      "{'acknowledged': True, 'shards_acknowledged': True, 'index': 'tbl_reporters'}\n"
     ]
    }
   ],
   "source": [
    "#-Creating the index with the above settings-#\n",
    "response = es.indices.create(index = \"tbl_reporters\", body = config)\n",
    "print(response)\n"
   ]
  },
  {
   "cell_type": "code",
   "execution_count": 14,
   "metadata": {},
   "outputs": [
    {
     "name": "stdout",
     "output_type": "stream",
     "text": [
      "(670, [])\n"
     ]
    }
   ],
   "source": [
    "#-Importing the data using the helpers function-#\n",
    "response = helpers.bulk(es, doc_generator(records))\n",
    "print(response)\n"
   ]
  },
  {
   "attachments": {},
   "cell_type": "markdown",
   "metadata": {},
   "source": [
    "# Ingesting large CSV files."
   ]
  },
  {
   "cell_type": "code",
   "execution_count": 15,
   "metadata": {},
   "outputs": [
    {
     "name": "stdout",
     "output_type": "stream",
     "text": [
      "(1000, [])\n"
     ]
    }
   ],
   "source": [
    "#-This approach is for large dataset files with limited preprocessing-#\n",
    "import csv\n",
    "\n",
    "def doc_generator(filename: str) -> Generator[Dict[str, Any], None, None]:\n",
    "\n",
    "    #-Opening the file-#\n",
    "    with open(filename, \"r\", encoding = \"utf-8\") as csv_file:\n",
    "\n",
    "        #-Creating a CSV reader object-#\n",
    "        reader = csv.DictReader(csv_file)\n",
    "\n",
    "        #-Iterating the records-#\n",
    "        for row in reader:\n",
    "\n",
    "            #-Yielding the processed document-#\n",
    "            yield {\n",
    "                \"_index\": \"tbl_reporters\",\n",
    "                \"_id\": row.pop(\"reporter_id\"),\n",
    "                \"_source\": row\n",
    "            }\n",
    "\n",
    "#-Doing the bulk import with this method-#\n",
    "response = helpers.bulk(es, doc_generator(\"reporters.csv\"))\n",
    "print(response)\n"
   ]
  },
  {
   "cell_type": "code",
   "execution_count": 17,
   "metadata": {},
   "outputs": [
    {
     "data": {
      "text/plain": [
       "{'took': 2,\n",
       " 'timed_out': False,\n",
       " '_shards': {'total': 1, 'successful': 1, 'skipped': 0, 'failed': 0},\n",
       " 'hits': {'total': {'value': 1000, 'relation': 'eq'},\n",
       "  'max_score': 1.0,\n",
       "  'hits': [{'_index': 'tbl_reporters',\n",
       "    '_id': '85382',\n",
       "    '_score': 1.0,\n",
       "    '_source': {'name': 'Michael Griffiths',\n",
       "     'outlet_id': '16039',\n",
       "     'city': '',\n",
       "     'state': '',\n",
       "     'country_code': 'GB',\n",
       "     'associations': '111071, 18745, 57818',\n",
       "     'topics': 'Crime, Law, News, Crime And Justice, European Union',\n",
       "     'twitter_description': 'News editor and covering sanctions for Global Investigations Review.  in . Also runs @FARAupdates. Still some UK corporate crime stuff. DMs open.',\n",
       "     'pitch': '',\n",
       "     'last_updated': '2024-08-22 07:16:54.000',\n",
       "     'active': 'false'}},\n",
       "   {'_index': 'tbl_reporters',\n",
       "    '_id': '1308596',\n",
       "    '_score': 1.0,\n",
       "    '_source': {'name': 'Muhammad Adil',\n",
       "     'outlet_id': '',\n",
       "     'city': 'Peshawar',\n",
       "     'state': 'Khyber Pakhtunkhwa',\n",
       "     'country_code': 'PK',\n",
       "     'associations': '322265',\n",
       "     'topics': '',\n",
       "     'twitter_description': '',\n",
       "     'pitch': '',\n",
       "     'last_updated': '2024-04-08 07:37:16.000',\n",
       "     'active': 'true'}},\n",
       "   {'_index': 'tbl_reporters',\n",
       "    '_id': '519587',\n",
       "    '_score': 1.0,\n",
       "    '_source': {'name': 'Laura Waddell',\n",
       "     'outlet_id': '55500',\n",
       "     'city': 'Glasgow',\n",
       "     'state': 'Scotland',\n",
       "     'country_code': 'GB',\n",
       "     'associations': '37450, 24224, 27445, 25525, 32757, 31635, 30927',\n",
       "     'topics': '',\n",
       "     'twitter_description': \"UK Publishing Director @tramppress + Author of Exit (Sept '20/@bloomsburypub) + Award-winning weekly columnist @thescotsman + Board of @gutter_magazine\",\n",
       "     'pitch': '',\n",
       "     'last_updated': '2024-02-19 11:09:54.000',\n",
       "     'active': 'false'}},\n",
       "   {'_index': 'tbl_reporters',\n",
       "    '_id': '560530',\n",
       "    '_score': 1.0,\n",
       "    '_source': {'name': 'Thomas Brinsko',\n",
       "     'outlet_id': '',\n",
       "     'city': 'League City',\n",
       "     'state': 'Texas',\n",
       "     'country_code': 'US',\n",
       "     'associations': '3892',\n",
       "     'topics': 'Board Industry, Business, Chemical Industry, Energy, Gas, Oil, Paper, Petroleum, Power',\n",
       "     'twitter_description': '',\n",
       "     'pitch': '',\n",
       "     'last_updated': '2023-03-03 11:11:23.000',\n",
       "     'active': 'true'}},\n",
       "   {'_index': 'tbl_reporters',\n",
       "    '_id': '180513',\n",
       "    '_score': 1.0,\n",
       "    '_source': {'name': 'Ken Griner',\n",
       "     'outlet_id': '',\n",
       "     'city': '',\n",
       "     'state': '',\n",
       "     'country_code': 'US',\n",
       "     'associations': '43149',\n",
       "     'topics': 'Sports',\n",
       "     'twitter_description': '',\n",
       "     'pitch': '',\n",
       "     'last_updated': '2024-08-22 07:15:59.000',\n",
       "     'active': 'false'}},\n",
       "   {'_index': 'tbl_reporters',\n",
       "    '_id': '200692',\n",
       "    '_score': 1.0,\n",
       "    '_ignored': ['pitch.keyword'],\n",
       "    '_source': {'name': 'David Plunkett',\n",
       "     'outlet_id': '41922',\n",
       "     'city': 'Asheville',\n",
       "     'state': 'North Carolina',\n",
       "     'country_code': 'US',\n",
       "     'associations': '2702',\n",
       "     'topics': 'Science, HealthMotore, Local News, National News, News, International News, Health, Government, Regional News',\n",
       "     'twitter_description': 'News 13 WNC’s News Leader serving Asheville Hendersonville Rutherfordton Waynesville Weaverville Brevard and all points in between Also at http://facebook.com/news13',\n",
       "     'pitch': 'David Plunkett is a Producer at WLOS-TV. David produces shows on International news, Local news and National news.  David was formerly a Producer at News 13 This Weekend-WLOS-TV. David was formerly a Producer at News 13 @ 5:30 - WLOS-TV. David was formerly a Producer at News 13 Nightcast Weekend - WLOS-TV. David prefers being contacted by Email.',\n",
       "     'last_updated': '2024-08-22 07:15:59.000',\n",
       "     'active': 'false'}},\n",
       "   {'_index': 'tbl_reporters',\n",
       "    '_id': '32096',\n",
       "    '_score': 1.0,\n",
       "    '_source': {'name': 'Jen Psaki',\n",
       "     'outlet_id': '350635',\n",
       "     'city': '',\n",
       "     'state': 'District of Columbia',\n",
       "     'country_code': 'US',\n",
       "     'associations': '2073, 29809, 17613, 13651, 14878, 32336, 11626, 32471, 23839, 267614, 34593, 10650, 10611, 3977, 41464, 20473',\n",
       "     'topics': 'Democrats, Security, Term, Books',\n",
       "     'twitter_description': 'Mom of two humans under five, former WH Comms Chief and State Dept spox, @CNN contributor',\n",
       "     'pitch': '',\n",
       "     'last_updated': '2024-08-22 07:15:59.000',\n",
       "     'active': 'false'}},\n",
       "   {'_index': 'tbl_reporters',\n",
       "    '_id': '213440',\n",
       "    '_score': 1.0,\n",
       "    '_source': {'name': 'Jeanette Kendall',\n",
       "     'outlet_id': '',\n",
       "     'city': '',\n",
       "     'state': '',\n",
       "     'country_code': 'US',\n",
       "     'associations': '30095',\n",
       "     'topics': 'News',\n",
       "     'twitter_description': 'Times News Group: Pekin Daily Times, Chillicothe Times-Bulletin, Washington Times-Reporter, East Peoria Times-Courier, Woodford Times and Morton Times-News.',\n",
       "     'pitch': '',\n",
       "     'last_updated': '2024-08-22 07:15:59.000',\n",
       "     'active': 'false'}},\n",
       "   {'_index': 'tbl_reporters',\n",
       "    '_id': '222984',\n",
       "    '_score': 1.0,\n",
       "    '_ignored': ['pitch.keyword'],\n",
       "    '_source': {'name': 'Kevin Courtney',\n",
       "     'outlet_id': '27376',\n",
       "     'city': 'Napa',\n",
       "     'state': 'California',\n",
       "     'country_code': 'US',\n",
       "     'associations': '40353, 1541, 84961',\n",
       "     'topics': 'Lifestyle, Wine, Entertainment, Regional News, Local News, Medicine, National News, International News, Physiology, Medical, University, Covid19, Community Development, Internet, Human Interest',\n",
       "     'twitter_description': 'Napa resident since 1973. City editor of the Napa Valley Register. Possessor of a Sunday column, A Napa Journal.',\n",
       "     'pitch': 'Kevin has been city editor since September 2010. He joined the Register in 1973 as a reporter. He covered Napa City Hall and assorted other beats over the years. Kevin has been writing his Napa Journal column on Sundays since 1989. Kevin has been city editor since September 2010. He joined the Register in 1973 as a reporter. He covered Napa City Hall and assorted other beats over the years. Kevin has been writing his Napa Journal column on Sundays since 1989. Kevin Courtney is a City Editor at Napa Valley Register. Kevin tweets on topics covering Community development and Local news. Kevin prefers being contacted by Email.',\n",
       "     'last_updated': '2024-08-22 07:15:59.000',\n",
       "     'active': 'false'}},\n",
       "   {'_index': 'tbl_reporters',\n",
       "    '_id': '158741',\n",
       "    '_score': 1.0,\n",
       "    '_source': {'name': 'Allen Grove',\n",
       "     'outlet_id': '37322',\n",
       "     'city': 'Alfred',\n",
       "     'state': 'New York',\n",
       "     'country_code': 'US',\n",
       "     'associations': '11814',\n",
       "     'topics': 'University, Education, Finance',\n",
       "     'twitter_description': 'College Admissions Expert for http://ThoughtCo.com\\xa0; Chair of the English Department at Alfred University',\n",
       "     'pitch': '',\n",
       "     'last_updated': '2024-08-22 07:15:59.000',\n",
       "     'active': 'false'}}]}}"
      ]
     },
     "execution_count": 17,
     "metadata": {},
     "output_type": "execute_result"
    }
   ],
   "source": [
    "#-Checking the ingested data using search-#\n",
    "dict(es.search(index = \"tbl_reporters\"))\n"
   ]
  }
 ],
 "metadata": {
  "kernelspec": {
   "display_name": "Python 3",
   "language": "python",
   "name": "python3"
  },
  "language_info": {
   "codemirror_mode": {
    "name": "ipython",
    "version": 3
   },
   "file_extension": ".py",
   "mimetype": "text/x-python",
   "name": "python",
   "nbconvert_exporter": "python",
   "pygments_lexer": "ipython3",
   "version": "3.12.3"
  },
  "orig_nbformat": 4
 },
 "nbformat": 4,
 "nbformat_minor": 2
}
