{
 "cells": [
  {
   "attachments": {},
   "cell_type": "markdown",
   "metadata": {},
   "source": [
    "# Basic setup."
   ]
  },
  {
   "cell_type": "code",
   "execution_count": 9,
   "metadata": {},
   "outputs": [
    {
     "name": "stdout",
     "output_type": "stream",
     "text": [
      "Requirement already satisfied: pandas in c:\\users\\khatib\\appdata\\local\\programs\\python\\python312\\lib\\site-packages (2.2.2)\n",
      "Requirement already satisfied: numpy>=1.26.0 in c:\\users\\khatib\\appdata\\local\\programs\\python\\python312\\lib\\site-packages (from pandas) (1.26.4)\n",
      "Requirement already satisfied: python-dateutil>=2.8.2 in c:\\users\\khatib\\appdata\\local\\programs\\python\\python312\\lib\\site-packages (from pandas) (2.9.0.post0)\n",
      "Requirement already satisfied: pytz>=2020.1 in c:\\users\\khatib\\appdata\\local\\programs\\python\\python312\\lib\\site-packages (from pandas) (2024.1)\n",
      "Requirement already satisfied: tzdata>=2022.7 in c:\\users\\khatib\\appdata\\local\\programs\\python\\python312\\lib\\site-packages (from pandas) (2024.1)\n",
      "Requirement already satisfied: six>=1.5 in c:\\users\\khatib\\appdata\\local\\programs\\python\\python312\\lib\\site-packages (from python-dateutil>=2.8.2->pandas) (1.16.0)\n",
      "Note: you may need to restart the kernel to use updated packages.\n",
      "Requirement already satisfied: elasticsearch in c:\\users\\khatib\\appdata\\local\\programs\\python\\python312\\lib\\site-packages (8.15.0)\n",
      "Requirement already satisfied: elastic-transport<9,>=8.13 in c:\\users\\khatib\\appdata\\local\\programs\\python\\python312\\lib\\site-packages (from elasticsearch) (8.15.0)\n",
      "Requirement already satisfied: urllib3<3,>=1.26.2 in c:\\users\\khatib\\appdata\\local\\programs\\python\\python312\\lib\\site-packages (from elastic-transport<9,>=8.13->elasticsearch) (1.26.18)\n",
      "Requirement already satisfied: certifi in c:\\users\\khatib\\appdata\\local\\programs\\python\\python312\\lib\\site-packages (from elastic-transport<9,>=8.13->elasticsearch) (2024.2.2)\n",
      "Note: you may need to restart the kernel to use updated packages.\n"
     ]
    }
   ],
   "source": [
    "#-Installing the required modules-#\n",
    "%pip install pandas\n",
    "%pip install elasticsearch\n"
   ]
  },
  {
   "cell_type": "code",
   "execution_count": 10,
   "metadata": {},
   "outputs": [],
   "source": [
    "#-Importing the modules-#\n",
    "import warnings\n",
    "import elasticsearch\n",
    "\n",
    "#-Suppressing the warnings-#\n",
    "warnings.filterwarnings(\"ignore\", category = elasticsearch.ElasticsearchWarning)"
   ]
  },
  {
   "cell_type": "code",
   "execution_count": 11,
   "metadata": {},
   "outputs": [
    {
     "data": {
      "text/plain": [
       "True"
      ]
     },
     "execution_count": 11,
     "metadata": {},
     "output_type": "execute_result"
    }
   ],
   "source": [
    "#-Creating the elastic search objec and testing its connection-#\n",
    "host = [{\"scheme\": \"http\", \"host\": \"localhost\", \"port\": 9200}]\n",
    "es = elasticsearch.Elasticsearch(hosts = host, request_timeout = 600)\n",
    "es.ping()\n"
   ]
  },
  {
   "attachments": {},
   "cell_type": "markdown",
   "metadata": {},
   "source": [
    "# Index Operations."
   ]
  },
  {
   "cell_type": "code",
   "execution_count": 12,
   "metadata": {},
   "outputs": [
    {
     "data": {
      "text/plain": [
       "ObjectApiResponse({'acknowledged': True})"
      ]
     },
     "execution_count": 12,
     "metadata": {},
     "output_type": "execute_result"
    }
   ],
   "source": [
    "#-Removing any existing instance of the requried indices-#\n",
    "es.indices.delete(index = \"testindex\", ignore_unavailable = True)\n",
    "es.indices.delete(index = \"tbl_reporters\", ignore_unavailable = True)"
   ]
  },
  {
   "cell_type": "code",
   "execution_count": 13,
   "metadata": {},
   "outputs": [
    {
     "data": {
      "text/plain": [
       "ObjectApiResponse({'acknowledged': True, 'shards_acknowledged': True, 'index': 'tbl_reporters'})"
      ]
     },
     "execution_count": 13,
     "metadata": {},
     "output_type": "execute_result"
    }
   ],
   "source": [
    "#-Creating an index called tbl_reporters-#\n",
    "es.indices.create(index = \"tbl_reporters\")\n"
   ]
  },
  {
   "cell_type": "code",
   "execution_count": 14,
   "metadata": {},
   "outputs": [
    {
     "name": "stdout",
     "output_type": "stream",
     "text": [
      "True\n"
     ]
    }
   ],
   "source": [
    "#-Getting all the indices and checking if tbl_reporters is present-#\n",
    "response = es.indices.get(index = \"*\", ignore_unavailable = True)\n",
    "print(\"tbl_reporters\" in response)\n"
   ]
  },
  {
   "cell_type": "code",
   "execution_count": 15,
   "metadata": {},
   "outputs": [
    {
     "data": {
      "text/plain": [
       "ObjectApiResponse({'acknowledged': True})"
      ]
     },
     "execution_count": 15,
     "metadata": {},
     "output_type": "execute_result"
    }
   ],
   "source": [
    "#-Deleting the index-#\n",
    "es.indices.delete(index = \"tbl_reporters\", ignore_unavailable = True)\n"
   ]
  },
  {
   "attachments": {},
   "cell_type": "markdown",
   "metadata": {},
   "source": [
    "# Uploading sample JSON Docs."
   ]
  },
  {
   "cell_type": "code",
   "execution_count": 16,
   "metadata": {},
   "outputs": [],
   "source": [
    "#-Document dictionaries-#\n",
    "doc1 = {\n",
    "    \"reporter_id\": 1,\n",
    "    \"name\": \"Bobulagumon.\",\n",
    "    \"age\": 24,\n",
    "    \"active\": True,\n",
    "    \"status\": 1,\n",
    "    \"outlet\": \"Onclusive\"\n",
    "}\n",
    "doc2 = {\n",
    "    \"reporter_id\": 2,\n",
    "    \"name\": \"Veerbamba.\",\n",
    "    \"age\": 25,\n",
    "    \"active\": False,\n",
    "    \"status\": 2,\n",
    "    \"outlet\": \"Critical Mention\"\n",
    "}\n"
   ]
  },
  {
   "cell_type": "code",
   "execution_count": 17,
   "metadata": {},
   "outputs": [
    {
     "data": {
      "text/plain": [
       "ObjectApiResponse({'acknowledged': True, 'shards_acknowledged': True, 'index': 'testindex'})"
      ]
     },
     "execution_count": 17,
     "metadata": {},
     "output_type": "execute_result"
    }
   ],
   "source": [
    "#-Creating a temp index-#\n",
    "es.indices.create(index = \"testindex\")\n"
   ]
  },
  {
   "cell_type": "code",
   "execution_count": 18,
   "metadata": {},
   "outputs": [
    {
     "name": "stdout",
     "output_type": "stream",
     "text": [
      "{'_index': 'testindex', '_id': '1', '_version': 1, 'result': 'created', '_shards': {'total': 2, 'successful': 1, 'failed': 0}, '_seq_no': 0, '_primary_term': 1}\n",
      "{'_index': 'testindex', '_id': '2', '_version': 1, 'result': 'created', '_shards': {'total': 2, 'successful': 1, 'failed': 0}, '_seq_no': 1, '_primary_term': 1}\n"
     ]
    }
   ],
   "source": [
    "#-Adding the document to the newly created index-#\n",
    "response = es.index(index = \"testindex\", body = doc1, id = 1)\n",
    "print(response)\n",
    "response = es.index(index = \"testindex\", body = doc2, id = 2)\n",
    "print(response)\n"
   ]
  },
  {
   "cell_type": "code",
   "execution_count": 19,
   "metadata": {},
   "outputs": [
    {
     "name": "stdout",
     "output_type": "stream",
     "text": [
      "Document by id.\n",
      "{'_index': 'testindex', '_id': '2', '_version': 1, '_seq_no': 1, '_primary_term': 1, 'found': True, '_source': {'reporter_id': 2, 'name': 'Veerbamba.', 'age': 25, 'active': False, 'status': 2, 'outlet': 'Critical Mention'}} \n",
      "\n",
      "All documents.\n"
     ]
    }
   ],
   "source": [
    "#-Getting a document by ID-#\n",
    "response = es.get(index = \"testindex\", id = 2)\n",
    "print(\"Document by id.\")\n",
    "print(response, \"\\n\")\n",
    "\n",
    "#-Getting all the documents-#\n",
    "response = es.search(index = \"testindex\")\n",
    "print(\"All documents.\")\n",
    "for res in response[\"hits\"][\"hits\"]:\n",
    "    print(res)\n"
   ]
  },
  {
   "attachments": {},
   "cell_type": "markdown",
   "metadata": {},
   "source": [
    "# Deleting a document."
   ]
  },
  {
   "cell_type": "code",
   "execution_count": 20,
   "metadata": {},
   "outputs": [
    {
     "name": "stdout",
     "output_type": "stream",
     "text": [
      "Deleted successfully.\n",
      "NotFoundError(404, \"{'_index': 'testindex', '_id': '2', 'found': False}\")\n"
     ]
    }
   ],
   "source": [
    "#-Deleting a document by ID-#\n",
    "es.delete(index = \"testindex\", id = 2)\n",
    "print(\"Deleted successfully.\")\n",
    "\n",
    "#-Trying to fetch the document after deleting\n",
    "try:\n",
    "    es.get(index = \"testindex\", id = 2)\n",
    "except Exception as e:\n",
    "    print(e)\n"
   ]
  },
  {
   "attachments": {},
   "cell_type": "markdown",
   "metadata": {},
   "source": [
    "# Additional index info."
   ]
  },
  {
   "cell_type": "code",
   "execution_count": 23,
   "metadata": {},
   "outputs": [
    {
     "data": {
      "text/plain": [
       "{'testindex': {'mappings': {'properties': {'active': {'type': 'boolean'},\n",
       "    'age': {'type': 'long'},\n",
       "    'name': {'type': 'text',\n",
       "     'fields': {'keyword': {'type': 'keyword', 'ignore_above': 256}}},\n",
       "    'outlet': {'type': 'text',\n",
       "     'fields': {'keyword': {'type': 'keyword', 'ignore_above': 256}}},\n",
       "    'reporter_id': {'type': 'long'},\n",
       "    'status': {'type': 'long'}}}}}"
      ]
     },
     "execution_count": 23,
     "metadata": {},
     "output_type": "execute_result"
    }
   ],
   "source": [
    "#-Getting the index mappings-#\n",
    "dict(es.indices.get_mapping(index = \"testindex\"))\n"
   ]
  },
  {
   "cell_type": "code",
   "execution_count": 22,
   "metadata": {},
   "outputs": [
    {
     "data": {
      "text/plain": [
       "{'testindex': {'settings': {'index': {'routing': {'allocation': {'include': {'_tier_preference': 'data_content'}}},\n",
       "    'number_of_shards': '1',\n",
       "    'provided_name': 'testindex',\n",
       "    'creation_date': '1725872568761',\n",
       "    'number_of_replicas': '1',\n",
       "    'uuid': '1v46f7m0Q4WlwCuYmtGVHg',\n",
       "    'version': {'created': '8512000'}}}}}"
      ]
     },
     "execution_count": 22,
     "metadata": {},
     "output_type": "execute_result"
    }
   ],
   "source": [
    "#-Getting the index settings-#\n",
    "dict(es.indices.get_settings(index = \"testindex\"))\n"
   ]
  },
  {
   "cell_type": "code",
   "execution_count": 24,
   "metadata": {},
   "outputs": [
    {
     "data": {
      "text/plain": [
       "{'took': 1,\n",
       " 'timed_out': False,\n",
       " '_shards': {'total': 1, 'successful': 1, 'skipped': 0, 'failed': 0},\n",
       " 'hits': {'total': {'value': 1, 'relation': 'eq'},\n",
       "  'max_score': 1.0,\n",
       "  'hits': [{'_index': 'testindex',\n",
       "    '_id': '1',\n",
       "    '_score': 1.0,\n",
       "    '_source': {'reporter_id': 1,\n",
       "     'name': 'Bobulagumon.',\n",
       "     'age': 24,\n",
       "     'active': True,\n",
       "     'status': 1,\n",
       "     'outlet': 'Onclusive'}}]}}"
      ]
     },
     "execution_count": 24,
     "metadata": {},
     "output_type": "execute_result"
    }
   ],
   "source": [
    "#-Getting the data using search-#\n",
    "dict(es.search(index = \"testindex\"))\n"
   ]
  }
 ],
 "metadata": {
  "kernelspec": {
   "display_name": "Python 3",
   "language": "python",
   "name": "python3"
  },
  "language_info": {
   "codemirror_mode": {
    "name": "ipython",
    "version": 3
   },
   "file_extension": ".py",
   "mimetype": "text/x-python",
   "name": "python",
   "nbconvert_exporter": "python",
   "pygments_lexer": "ipython3",
   "version": "3.12.3"
  }
 },
 "nbformat": 4,
 "nbformat_minor": 2
}
